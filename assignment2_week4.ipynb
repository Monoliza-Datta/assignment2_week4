{
 "cells": [
  {
   "cell_type": "code",
   "execution_count": null,
   "id": "5781ea8b-922e-41f8-9e08-bb8f3ceef00c",
   "metadata": {},
   "outputs": [],
   "source": [
    "# Q1. What is Abstraction in Oops? Explain with an example."
   ]
  },
  {
   "cell_type": "code",
   "execution_count": null,
   "id": "33d1bc99-17fa-49ce-8b87-f274a75ff471",
   "metadata": {},
   "outputs": [],
   "source": [
    "##solution 1:"
   ]
  },
  {
   "cell_type": "code",
   "execution_count": null,
   "id": "85c25b3e-c27d-4ccd-92be-1aee4cd50550",
   "metadata": {},
   "outputs": [],
   "source": [
    "# Abstraction in python is defined as a process of handling complexity by hiding unnecessary information from the user.\n",
    "# This is one of the core concepts of object-oriented programming (OOP) languages.\n",
    "\n",
    "#example-"
   ]
  },
  {
   "cell_type": "code",
   "execution_count": 1,
   "id": "3d1da8b3-32c1-4a27-bdfa-375bc65af559",
   "metadata": {},
   "outputs": [],
   "source": [
    "import abc\n",
    "\n",
    "class shapes:\n",
    "    def no_of_sides(self):\n",
    "        pass\n",
    "    \n",
    "class triangle(shapes):\n",
    "    def no_of_sides(self):\n",
    "        return \"I've 3 sides!\"\n",
    "    \n",
    "class square(shapes):\n",
    "    def no_of_sides(self):\n",
    "        return \"I've 4 sides!\"\n",
    "    \n",
    "class pentagon(shapes):\n",
    "    def no_of_sides(self):\n",
    "        return \"I've 5 sides!\"\n",
    "\n",
    "class hexagon(shapes):\n",
    "    def no_of_sides(self):\n",
    "        return \"I've 6 sides!\"\n",
    "        "
   ]
  },
  {
   "cell_type": "code",
   "execution_count": 8,
   "id": "10101cd7-0fd4-4114-ab6c-99b80b14ee16",
   "metadata": {},
   "outputs": [],
   "source": [
    "sq = square()"
   ]
  },
  {
   "cell_type": "code",
   "execution_count": 9,
   "id": "3560988f-5eed-4ff6-b394-820cfbc22f98",
   "metadata": {},
   "outputs": [
    {
     "data": {
      "text/plain": [
       "\"I've 4 sides!\""
      ]
     },
     "execution_count": 9,
     "metadata": {},
     "output_type": "execute_result"
    }
   ],
   "source": [
    "sq.no_of_sides()"
   ]
  },
  {
   "cell_type": "code",
   "execution_count": 10,
   "id": "0a696196-53ff-486a-8512-a507727ceea9",
   "metadata": {},
   "outputs": [],
   "source": [
    "tr = triangle()"
   ]
  },
  {
   "cell_type": "code",
   "execution_count": 11,
   "id": "bc114f80-4b74-4f8f-b963-3f108285be3f",
   "metadata": {},
   "outputs": [
    {
     "data": {
      "text/plain": [
       "\"I've 3 sides!\""
      ]
     },
     "execution_count": 11,
     "metadata": {},
     "output_type": "execute_result"
    }
   ],
   "source": [
    "tr.no_of_sides()"
   ]
  },
  {
   "cell_type": "code",
   "execution_count": 12,
   "id": "0bc858fa-17fe-4f1d-9bdb-d2f42b9c3250",
   "metadata": {},
   "outputs": [],
   "source": [
    "pen = pentagon()"
   ]
  },
  {
   "cell_type": "code",
   "execution_count": 13,
   "id": "6ae4a00c-a075-47c6-9af2-1e24ac3b38fb",
   "metadata": {},
   "outputs": [
    {
     "data": {
      "text/plain": [
       "\"I've 5 sides!\""
      ]
     },
     "execution_count": 13,
     "metadata": {},
     "output_type": "execute_result"
    }
   ],
   "source": [
    "pen.no_of_sides()"
   ]
  },
  {
   "cell_type": "code",
   "execution_count": 14,
   "id": "e10921be-a03e-43d0-849c-5551e4458311",
   "metadata": {},
   "outputs": [],
   "source": [
    "hex = hexagon()"
   ]
  },
  {
   "cell_type": "code",
   "execution_count": 15,
   "id": "27c06b3f-575d-498d-a7ff-290a30292215",
   "metadata": {},
   "outputs": [
    {
     "data": {
      "text/plain": [
       "\"I've 6 sides!\""
      ]
     },
     "execution_count": 15,
     "metadata": {},
     "output_type": "execute_result"
    }
   ],
   "source": [
    "hex.no_of_sides()"
   ]
  },
  {
   "cell_type": "code",
   "execution_count": null,
   "id": "ecb2aec3-f632-4821-9070-6482ccf526db",
   "metadata": {},
   "outputs": [],
   "source": []
  },
  {
   "cell_type": "code",
   "execution_count": null,
   "id": "8ac87859-44c7-4a47-b90f-989cf0568a39",
   "metadata": {},
   "outputs": [],
   "source": []
  },
  {
   "cell_type": "code",
   "execution_count": null,
   "id": "addec836-6429-42e1-8e3b-492e50bee6be",
   "metadata": {},
   "outputs": [],
   "source": [
    "# Q2. Differentiate between Abstraction and Encapsulation. Explain with an example."
   ]
  },
  {
   "cell_type": "code",
   "execution_count": null,
   "id": "fb007bff-30aa-46c1-ac12-f678430a24f7",
   "metadata": {},
   "outputs": [],
   "source": [
    "##solution2 :"
   ]
  },
  {
   "cell_type": "code",
   "execution_count": null,
   "id": "ee9ce46f-2159-47c8-8655-f9a64fe57561",
   "metadata": {},
   "outputs": [],
   "source": [
    "# Abstraction is a way of representing some specific data. \n",
    "# Encapsulation is a way of hiding the complexity of something and exposing only the parts you wish to expose."
   ]
  },
  {
   "cell_type": "code",
   "execution_count": null,
   "id": "e54e367b-4d7c-4b0a-b0b4-ddeab9b1ad0e",
   "metadata": {},
   "outputs": [],
   "source": [
    "# abstraction"
   ]
  },
  {
   "cell_type": "code",
   "execution_count": 1,
   "id": "6ce4fa59-6987-40a5-8962-a80ef0101253",
   "metadata": {},
   "outputs": [],
   "source": [
    "import abc\n",
    "\n",
    "class animal:\n",
    "    def move(self):\n",
    "        pass\n",
    "\n",
    "class humans(animal):\n",
    "    def move(self):\n",
    "        print (\"I can walk and run\")\n",
    "        \n",
    "class snake(animal):\n",
    "    def move(self):\n",
    "        print(\"I can crawl\")\n",
    "        \n",
    "class bird(animal):\n",
    "    def move(self):\n",
    "        print(\"I can fly\")"
   ]
  },
  {
   "cell_type": "code",
   "execution_count": 3,
   "id": "5e5e64e0-99dd-42f7-91d8-7e587b37339a",
   "metadata": {},
   "outputs": [],
   "source": [
    "s = snake()"
   ]
  },
  {
   "cell_type": "code",
   "execution_count": 5,
   "id": "4c095b43-3a37-4c88-9cbe-096bb22a6acf",
   "metadata": {},
   "outputs": [
    {
     "name": "stdout",
     "output_type": "stream",
     "text": [
      "I can crawl\n"
     ]
    }
   ],
   "source": [
    "s.move()"
   ]
  },
  {
   "cell_type": "code",
   "execution_count": 6,
   "id": "558853e0-a054-497d-9499-ba5228d76db9",
   "metadata": {},
   "outputs": [],
   "source": [
    "b = bird()"
   ]
  },
  {
   "cell_type": "code",
   "execution_count": 8,
   "id": "50c08e4b-f24a-4c77-aa8b-e609fc3b6c86",
   "metadata": {},
   "outputs": [
    {
     "name": "stdout",
     "output_type": "stream",
     "text": [
      "I can fly\n"
     ]
    }
   ],
   "source": [
    "b.move()"
   ]
  },
  {
   "cell_type": "code",
   "execution_count": null,
   "id": "0ab56377-9479-4941-bcda-77af56425686",
   "metadata": {},
   "outputs": [],
   "source": [
    "# incapsulation"
   ]
  },
  {
   "cell_type": "code",
   "execution_count": 14,
   "id": "99497b62-0537-4e05-a079-58c355ed8031",
   "metadata": {},
   "outputs": [],
   "source": [
    "class exam_result:\n",
    "    \n",
    "    def __init__(self, name, roll_no, exam_marks):\n",
    "        self.__name = name\n",
    "        self.__roll_no = roll_no\n",
    "        self.__exam_marks = exam_marks\n",
    "        \n",
    "\n",
    "    def set_exam_marks(self,exam_marks):\n",
    "        self.__exam_marks = \"FAIL\" if exam_marks < 30 else exam_marks\n",
    "        \n",
    "    def get_exam_marks(self):\n",
    "        return self.__exam_marks"
   ]
  },
  {
   "cell_type": "code",
   "execution_count": 15,
   "id": "48569044-9235-4652-8b37-86e0d982427d",
   "metadata": {},
   "outputs": [],
   "source": [
    "number_1 = exam_result(\"Monoliza Datta\",36,78)"
   ]
  },
  {
   "cell_type": "code",
   "execution_count": 16,
   "id": "ce722d94-4a6f-43a1-9e66-58eeef1c9b52",
   "metadata": {},
   "outputs": [
    {
     "data": {
      "text/plain": [
       "36"
      ]
     },
     "execution_count": 16,
     "metadata": {},
     "output_type": "execute_result"
    }
   ],
   "source": [
    "number_1._exam_result__roll_no"
   ]
  },
  {
   "cell_type": "code",
   "execution_count": 17,
   "id": "0730d355-a949-4cd5-a474-06abc98a1121",
   "metadata": {},
   "outputs": [],
   "source": [
    "number_2 = exam_result(\"Tuhin Kanti Kumar\",132,87)"
   ]
  },
  {
   "cell_type": "code",
   "execution_count": 18,
   "id": "afa58ef2-6936-40ad-a25e-c9fdc7d4f688",
   "metadata": {},
   "outputs": [
    {
     "data": {
      "text/plain": [
       "87"
      ]
     },
     "execution_count": 18,
     "metadata": {},
     "output_type": "execute_result"
    }
   ],
   "source": [
    "number_2._exam_result__exam_marks"
   ]
  },
  {
   "cell_type": "code",
   "execution_count": null,
   "id": "0032fdae-99c5-4f8f-9699-b4923e53118e",
   "metadata": {},
   "outputs": [],
   "source": []
  },
  {
   "cell_type": "code",
   "execution_count": null,
   "id": "51b72457-28c0-42c1-9efe-d66e7f5b0258",
   "metadata": {},
   "outputs": [],
   "source": []
  },
  {
   "cell_type": "code",
   "execution_count": null,
   "id": "5ea51037-65fb-4f84-9665-b67a64f514a6",
   "metadata": {},
   "outputs": [],
   "source": [
    "# Q3. What is abc module in python? Why is it used?"
   ]
  },
  {
   "cell_type": "code",
   "execution_count": null,
   "id": "9ae94783-64e8-4694-93e9-df3b1174a241",
   "metadata": {},
   "outputs": [],
   "source": [
    "##solution 3:"
   ]
  },
  {
   "cell_type": "code",
   "execution_count": null,
   "id": "00da78c1-2d0d-4c96-b69a-2a2449d7e829",
   "metadata": {},
   "outputs": [],
   "source": [
    "# Python has a module called abc (abstract base class) that offers the necessary tools for crafting an abstract base class.\n",
    "# The rule is every abstract class must use ABCMeta metaclass.\n",
    "# The 'abc' module in the Python library provides the infrastructure for defining custom abstract base classes.\n",
    "# Abstract class cannot be instantiated in python. An Abstract method can be call by its subclasses."
   ]
  },
  {
   "cell_type": "code",
   "execution_count": null,
   "id": "30b6e247-8620-4b0a-a5cf-790397ffa416",
   "metadata": {},
   "outputs": [],
   "source": [
    "# Python is not a fully object-oriented programming language but it supports the features like abstract classes and abstraction.\n",
    "# We cannot create abstract classes directly in Python, so Python provides a module called abc that provides the infrastructure for defining the base of Abstract Base Classes(ABC)"
   ]
  },
  {
   "cell_type": "code",
   "execution_count": 3,
   "id": "a1240f10-65c2-4ed0-a5d4-a65beb6aa0b6",
   "metadata": {},
   "outputs": [],
   "source": [
    "import abc\n",
    "\n",
    "class cars:\n",
    "    def features(self):\n",
    "        pass\n",
    "\n",
    "class Toyota_Corolla(cars):\n",
    "    def features(self):\n",
    "        print (\"4 gears, mpg is 33.9, carb is 1\")\n",
    "        \n",
    "class Honda_Civic(cars):\n",
    "    def features(self):\n",
    "        print (\"4 gears, mpg is 30.4, carb is 2\")\n",
    "        \n",
    "        \n",
    "class Merc_450SE(cars):\n",
    "    def features(self):\n",
    "        print (\"3 gears, mpg is 16.4, carb is 3\")\n",
    "        \n",
    "class Ford_Pantera_L(cars):\n",
    "    def features(self):\n",
    "        print (\"5 gears, mpg is 15.8, carb is 4\")\n",
    "        \n",
    "        "
   ]
  },
  {
   "cell_type": "code",
   "execution_count": 4,
   "id": "29721f83-b52f-4d47-8c9f-0e4a3b9714c4",
   "metadata": {},
   "outputs": [],
   "source": [
    "t = Toyota_Corolla()"
   ]
  },
  {
   "cell_type": "code",
   "execution_count": 6,
   "id": "94796147-b716-4767-9e6e-4fbed4bd5e7f",
   "metadata": {},
   "outputs": [
    {
     "name": "stdout",
     "output_type": "stream",
     "text": [
      "4 gears, mpg is 33.9, carb is 1\n"
     ]
    }
   ],
   "source": [
    "t.features()"
   ]
  },
  {
   "cell_type": "code",
   "execution_count": 7,
   "id": "2ce4227f-8394-4b84-a2b0-48e038b3a1ac",
   "metadata": {},
   "outputs": [],
   "source": [
    "h = Honda_Civic()"
   ]
  },
  {
   "cell_type": "code",
   "execution_count": 8,
   "id": "c65d5cc3-0356-4a9b-b496-a3a94c0afdaf",
   "metadata": {},
   "outputs": [
    {
     "name": "stdout",
     "output_type": "stream",
     "text": [
      "4 gears, mpg is 30.4, carb is 2\n"
     ]
    }
   ],
   "source": [
    "h.features()"
   ]
  },
  {
   "cell_type": "code",
   "execution_count": 9,
   "id": "8a4aae36-42fd-4e61-840d-ab37f45cb2ae",
   "metadata": {},
   "outputs": [],
   "source": [
    "m = Merc_450SE()"
   ]
  },
  {
   "cell_type": "code",
   "execution_count": 10,
   "id": "ad174952-d9fb-4216-87d7-d1541843d0af",
   "metadata": {},
   "outputs": [
    {
     "name": "stdout",
     "output_type": "stream",
     "text": [
      "3 gears, mpg is 16.4, carb is 3\n"
     ]
    }
   ],
   "source": [
    "m.features()"
   ]
  },
  {
   "cell_type": "code",
   "execution_count": 11,
   "id": "550e6158-812a-4698-bc9f-fa4a0e7adbfb",
   "metadata": {},
   "outputs": [],
   "source": [
    "f = Ford_Pantera_L()"
   ]
  },
  {
   "cell_type": "code",
   "execution_count": 12,
   "id": "28066faa-a74e-481e-8980-df4a4be8f669",
   "metadata": {},
   "outputs": [
    {
     "name": "stdout",
     "output_type": "stream",
     "text": [
      "5 gears, mpg is 15.8, carb is 4\n"
     ]
    }
   ],
   "source": [
    "f.features()"
   ]
  },
  {
   "cell_type": "code",
   "execution_count": null,
   "id": "e2e307bc-1cea-46ac-84aa-12125cfa21dd",
   "metadata": {},
   "outputs": [],
   "source": []
  },
  {
   "cell_type": "code",
   "execution_count": null,
   "id": "71c25e21-8fc3-4ac2-a6bf-8265211315f5",
   "metadata": {},
   "outputs": [],
   "source": []
  },
  {
   "cell_type": "code",
   "execution_count": null,
   "id": "e588cb6b-8859-46e8-bfad-50404e6a3df5",
   "metadata": {},
   "outputs": [],
   "source": [
    "# Q4. How can we achieve data abstraction?"
   ]
  },
  {
   "cell_type": "code",
   "execution_count": null,
   "id": "8d7eeebf-e388-455c-8c45-baa85382252c",
   "metadata": {},
   "outputs": [],
   "source": [
    "##solution 4:"
   ]
  },
  {
   "cell_type": "code",
   "execution_count": null,
   "id": "512e236f-14d4-4dad-94cd-78bbfcc85507",
   "metadata": {},
   "outputs": [],
   "source": [
    "# Data Abstraction in Python can be achieved through creating abstract classes and inheriting them later.\n",
    "# In Python, abstraction can be achieved by having/using abstract classes and methods in our programs.\n",
    "# An abstract method is a method that is declared, but does not contain implementation."
   ]
  },
  {
   "cell_type": "code",
   "execution_count": 19,
   "id": "23155fb9-9db0-4ecc-acab-2acfcf2a9da0",
   "metadata": {},
   "outputs": [],
   "source": [
    "import abc\n",
    "\n",
    "class iris:\n",
    "    def species(self):\n",
    "        pass\n",
    "\n",
    "class setosa(iris):\n",
    "    def species(self):\n",
    "        print (\"my species is setosa\")\n",
    "        \n",
    "class versicolor(iris):\n",
    "    def species(self):\n",
    "        print (\"my species is versicolor\")\n",
    "        \n",
    "        \n",
    "class virginica(iris):\n",
    "    def species(self):\n",
    "        print (\"my species is virginica\")"
   ]
  },
  {
   "cell_type": "code",
   "execution_count": 20,
   "id": "f6e5481e-4aa3-4393-be53-b2c94a3b4d45",
   "metadata": {},
   "outputs": [],
   "source": [
    "se = setosa()"
   ]
  },
  {
   "cell_type": "code",
   "execution_count": 21,
   "id": "7ad783d8-f749-467d-adfc-62ec2f1e2d33",
   "metadata": {},
   "outputs": [
    {
     "name": "stdout",
     "output_type": "stream",
     "text": [
      "my species is setosa\n"
     ]
    }
   ],
   "source": [
    "se.species()"
   ]
  },
  {
   "cell_type": "code",
   "execution_count": 22,
   "id": "61ded13b-0a7f-4946-a7cd-7017f7364f6e",
   "metadata": {},
   "outputs": [],
   "source": [
    "vc = versicolor()"
   ]
  },
  {
   "cell_type": "code",
   "execution_count": 23,
   "id": "ef3e0be0-d0e6-4705-91c3-9915a9f793f8",
   "metadata": {},
   "outputs": [
    {
     "name": "stdout",
     "output_type": "stream",
     "text": [
      "my species is versicolor\n"
     ]
    }
   ],
   "source": [
    "vc.species()"
   ]
  },
  {
   "cell_type": "code",
   "execution_count": 24,
   "id": "fa557642-1a16-4abf-84e2-925d55b82d46",
   "metadata": {},
   "outputs": [],
   "source": [
    "vn = virginica()"
   ]
  },
  {
   "cell_type": "code",
   "execution_count": 28,
   "id": "9fcfb4c8-012e-4019-a6ae-20a26dbbe6a1",
   "metadata": {},
   "outputs": [
    {
     "name": "stdout",
     "output_type": "stream",
     "text": [
      "my species is virginica\n"
     ]
    }
   ],
   "source": [
    "vn.species()"
   ]
  },
  {
   "cell_type": "code",
   "execution_count": null,
   "id": "522e6cd8-297c-4276-a8e4-72510291b213",
   "metadata": {},
   "outputs": [],
   "source": []
  },
  {
   "cell_type": "code",
   "execution_count": null,
   "id": "8d62088e-a98a-4852-8e97-b0f190bd83c0",
   "metadata": {},
   "outputs": [],
   "source": []
  },
  {
   "cell_type": "code",
   "execution_count": null,
   "id": "cf0f1273-d521-465e-bf3f-22a9e34c29e2",
   "metadata": {},
   "outputs": [],
   "source": [
    "# Q5. Can we create an instance of an abstract class? Explain your answer."
   ]
  },
  {
   "cell_type": "code",
   "execution_count": null,
   "id": "cc75467a-7c48-4a06-9499-759fffc95c42",
   "metadata": {},
   "outputs": [],
   "source": [
    "##solution 5:"
   ]
  },
  {
   "cell_type": "code",
   "execution_count": null,
   "id": "5b6eddb2-7392-4069-8778-de469352aa94",
   "metadata": {},
   "outputs": [],
   "source": [
    "# No, we cannot create an instance pf an abstract class."
   ]
  },
  {
   "cell_type": "code",
   "execution_count": null,
   "id": "c5b7a851-c9df-4d93-be62-4c5d957a8624",
   "metadata": {},
   "outputs": [],
   "source": [
    "# This is because it does not have a complete implementation.\n",
    "# The purpose of an abstract class is to function as a base for subclasses. \n",
    "# It acts like a template, or an empty or partially empty structure, one should extend it and build on it before one can use it."
   ]
  },
  {
   "cell_type": "code",
   "execution_count": null,
   "id": "ed139fcb-68fd-4091-8063-d1f1dc90d36f",
   "metadata": {},
   "outputs": [],
   "source": []
  },
  {
   "cell_type": "code",
   "execution_count": null,
   "id": "17b63205-1c5f-4224-a2e8-89091c4d7698",
   "metadata": {},
   "outputs": [],
   "source": []
  },
  {
   "cell_type": "code",
   "execution_count": null,
   "id": "06c75ba1-80f8-4f46-9b58-ed088096a570",
   "metadata": {},
   "outputs": [],
   "source": []
  },
  {
   "cell_type": "code",
   "execution_count": null,
   "id": "6d0e1f82-5254-480e-8141-a2df5994b91b",
   "metadata": {},
   "outputs": [],
   "source": []
  },
  {
   "cell_type": "code",
   "execution_count": null,
   "id": "49eaef30-379f-4eb3-9ed9-0b95e504903c",
   "metadata": {},
   "outputs": [],
   "source": []
  },
  {
   "cell_type": "code",
   "execution_count": null,
   "id": "67d7601e-2b73-4594-8c6c-1c6ac77430fc",
   "metadata": {},
   "outputs": [],
   "source": []
  },
  {
   "cell_type": "code",
   "execution_count": null,
   "id": "21806ea7-7756-4c64-af46-fed4c96dc896",
   "metadata": {},
   "outputs": [],
   "source": []
  },
  {
   "cell_type": "code",
   "execution_count": null,
   "id": "39e1b7f4-fd03-492f-812d-f058df8b29c2",
   "metadata": {},
   "outputs": [],
   "source": []
  },
  {
   "cell_type": "code",
   "execution_count": null,
   "id": "0ff21cd7-52bf-449c-87f0-62d94a596291",
   "metadata": {},
   "outputs": [],
   "source": []
  }
 ],
 "metadata": {
  "kernelspec": {
   "display_name": "Python 3 (ipykernel)",
   "language": "python",
   "name": "python3"
  },
  "language_info": {
   "codemirror_mode": {
    "name": "ipython",
    "version": 3
   },
   "file_extension": ".py",
   "mimetype": "text/x-python",
   "name": "python",
   "nbconvert_exporter": "python",
   "pygments_lexer": "ipython3",
   "version": "3.10.8"
  }
 },
 "nbformat": 4,
 "nbformat_minor": 5
}
